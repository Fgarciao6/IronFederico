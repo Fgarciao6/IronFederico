{
 "cells": [
  {
   "cell_type": "markdown",
   "metadata": {
    "id": "cmbU5xlvgeXJ"
   },
   "source": [
    "## Importing libraries"
   ]
  },
  {
   "cell_type": "code",
   "execution_count": 1,
   "metadata": {
    "executionInfo": {
     "elapsed": 801,
     "status": "ok",
     "timestamp": 1612032428085,
     "user": {
      "displayName": "Ignacio Soteras",
      "photoUrl": "",
      "userId": "02050793736257155229"
     },
     "user_tz": -60
    },
    "id": "gWGsI-x5ctNi"
   },
   "outputs": [],
   "source": [
    "import pandas as pd\n",
    "import numpy as np\n",
    "import datetime\n",
    "import warnings\n",
    "\n",
    "warnings.filterwarnings('ignore')\n",
    "warnings.filterwarnings(\"ignore\", message=\"numpy.ufunc size changed\")\n",
    "\n",
    "import matplotlib.pyplot as plt\n",
    "import seaborn as sns\n",
    "sns.set_style(\"whitegrid\")\n",
    "\n",
    "%matplotlib inline\n",
    "\n",
    "pd.set_option('display.max_columns', None)"
   ]
  },
  {
   "cell_type": "markdown",
   "metadata": {
    "id": "s9TRn9PXgVpd"
   },
   "source": [
    "## Importing data"
   ]
  },
  {
   "cell_type": "code",
   "execution_count": 2,
   "metadata": {
    "executionInfo": {
     "elapsed": 1984,
     "status": "ok",
     "timestamp": 1612032439732,
     "user": {
      "displayName": "Ignacio Soteras",
      "photoUrl": "",
      "userId": "02050793736257155229"
     },
     "user_tz": -60
    },
    "id": "y3Fxe8ePfCud"
   },
   "outputs": [],
   "source": [
    "data = pd.read_csv('unit4_after_morning.csv') "
   ]
  },
  {
   "cell_type": "code",
   "execution_count": 3,
   "metadata": {
    "colab": {
     "base_uri": "https://localhost:8080/",
     "height": 216
    },
    "executionInfo": {
     "elapsed": 764,
     "status": "ok",
     "timestamp": 1612032441778,
     "user": {
      "displayName": "Ignacio Soteras",
      "photoUrl": "",
      "userId": "02050793736257155229"
     },
     "user_tz": -60
    },
    "id": "TNQ1je7Y3Q92",
    "outputId": "43dae734-7c3e-49e6-b0f0-5c24ba531d38"
   },
   "outputs": [
    {
     "data": {
      "text/html": [
       "<div>\n",
       "<style scoped>\n",
       "    .dataframe tbody tr th:only-of-type {\n",
       "        vertical-align: middle;\n",
       "    }\n",
       "\n",
       "    .dataframe tbody tr th {\n",
       "        vertical-align: top;\n",
       "    }\n",
       "\n",
       "    .dataframe thead th {\n",
       "        text-align: right;\n",
       "    }\n",
       "</style>\n",
       "<table border=\"1\" class=\"dataframe\">\n",
       "  <thead>\n",
       "    <tr style=\"text-align: right;\">\n",
       "      <th></th>\n",
       "      <th>STATE</th>\n",
       "      <th>PVASTATE</th>\n",
       "      <th>DOB</th>\n",
       "      <th>MDMAUD</th>\n",
       "      <th>RECP3</th>\n",
       "      <th>GENDER</th>\n",
       "      <th>DOMAIN</th>\n",
       "      <th>INCOME</th>\n",
       "      <th>HOMEOWNR</th>\n",
       "      <th>HV1</th>\n",
       "      <th>HV2</th>\n",
       "      <th>HV3</th>\n",
       "      <th>HV4</th>\n",
       "      <th>IC1</th>\n",
       "      <th>IC2</th>\n",
       "      <th>IC3</th>\n",
       "      <th>IC4</th>\n",
       "      <th>IC5</th>\n",
       "      <th>VETERANS</th>\n",
       "      <th>NUMPROM</th>\n",
       "      <th>CARDPROM</th>\n",
       "      <th>CARDPM12</th>\n",
       "      <th>NUMPRM12</th>\n",
       "      <th>MAXADATE</th>\n",
       "      <th>RFA_2</th>\n",
       "      <th>NGIFTALL</th>\n",
       "      <th>TIMELAG</th>\n",
       "      <th>AVGGIFT</th>\n",
       "    </tr>\n",
       "  </thead>\n",
       "  <tbody>\n",
       "    <tr>\n",
       "      <th>0</th>\n",
       "      <td>IL</td>\n",
       "      <td></td>\n",
       "      <td>3712</td>\n",
       "      <td>XXXX</td>\n",
       "      <td></td>\n",
       "      <td>F</td>\n",
       "      <td>T2</td>\n",
       "      <td>4.0</td>\n",
       "      <td>U</td>\n",
       "      <td>479</td>\n",
       "      <td>635</td>\n",
       "      <td>3</td>\n",
       "      <td>2</td>\n",
       "      <td>307</td>\n",
       "      <td>318</td>\n",
       "      <td>349</td>\n",
       "      <td>378</td>\n",
       "      <td>12883</td>\n",
       "      <td></td>\n",
       "      <td>74</td>\n",
       "      <td>27</td>\n",
       "      <td>6</td>\n",
       "      <td>14</td>\n",
       "      <td>9702</td>\n",
       "      <td>L4E</td>\n",
       "      <td>31</td>\n",
       "      <td>1.386294</td>\n",
       "      <td>7.741935</td>\n",
       "    </tr>\n",
       "    <tr>\n",
       "      <th>1</th>\n",
       "      <td>CA</td>\n",
       "      <td></td>\n",
       "      <td>5202</td>\n",
       "      <td>XXXX</td>\n",
       "      <td></td>\n",
       "      <td>M</td>\n",
       "      <td>S1</td>\n",
       "      <td>6.0</td>\n",
       "      <td>H</td>\n",
       "      <td>5468</td>\n",
       "      <td>5218</td>\n",
       "      <td>12</td>\n",
       "      <td>10</td>\n",
       "      <td>1088</td>\n",
       "      <td>1096</td>\n",
       "      <td>1026</td>\n",
       "      <td>1037</td>\n",
       "      <td>36175</td>\n",
       "      <td></td>\n",
       "      <td>32</td>\n",
       "      <td>12</td>\n",
       "      <td>6</td>\n",
       "      <td>13</td>\n",
       "      <td>9702</td>\n",
       "      <td>L2G</td>\n",
       "      <td>3</td>\n",
       "      <td>2.890372</td>\n",
       "      <td>15.666667</td>\n",
       "    </tr>\n",
       "    <tr>\n",
       "      <th>2</th>\n",
       "      <td>NC</td>\n",
       "      <td></td>\n",
       "      <td>0</td>\n",
       "      <td>XXXX</td>\n",
       "      <td></td>\n",
       "      <td>M</td>\n",
       "      <td>R2</td>\n",
       "      <td>3.0</td>\n",
       "      <td>U</td>\n",
       "      <td>497</td>\n",
       "      <td>546</td>\n",
       "      <td>2</td>\n",
       "      <td>1</td>\n",
       "      <td>251</td>\n",
       "      <td>292</td>\n",
       "      <td>292</td>\n",
       "      <td>340</td>\n",
       "      <td>11576</td>\n",
       "      <td></td>\n",
       "      <td>63</td>\n",
       "      <td>26</td>\n",
       "      <td>6</td>\n",
       "      <td>14</td>\n",
       "      <td>9702</td>\n",
       "      <td>L4E</td>\n",
       "      <td>27</td>\n",
       "      <td>2.484907</td>\n",
       "      <td>7.481481</td>\n",
       "    </tr>\n",
       "    <tr>\n",
       "      <th>3</th>\n",
       "      <td>CA</td>\n",
       "      <td></td>\n",
       "      <td>2801</td>\n",
       "      <td>XXXX</td>\n",
       "      <td></td>\n",
       "      <td>F</td>\n",
       "      <td>R2</td>\n",
       "      <td>1.0</td>\n",
       "      <td>U</td>\n",
       "      <td>1000</td>\n",
       "      <td>1263</td>\n",
       "      <td>2</td>\n",
       "      <td>1</td>\n",
       "      <td>386</td>\n",
       "      <td>388</td>\n",
       "      <td>396</td>\n",
       "      <td>423</td>\n",
       "      <td>15130</td>\n",
       "      <td></td>\n",
       "      <td>66</td>\n",
       "      <td>27</td>\n",
       "      <td>6</td>\n",
       "      <td>14</td>\n",
       "      <td>9702</td>\n",
       "      <td>L4E</td>\n",
       "      <td>16</td>\n",
       "      <td>2.197225</td>\n",
       "      <td>6.812500</td>\n",
       "    </tr>\n",
       "    <tr>\n",
       "      <th>4</th>\n",
       "      <td>FL</td>\n",
       "      <td></td>\n",
       "      <td>2001</td>\n",
       "      <td>XXXX</td>\n",
       "      <td>X</td>\n",
       "      <td>F</td>\n",
       "      <td>S2</td>\n",
       "      <td>3.0</td>\n",
       "      <td>H</td>\n",
       "      <td>576</td>\n",
       "      <td>594</td>\n",
       "      <td>4</td>\n",
       "      <td>3</td>\n",
       "      <td>240</td>\n",
       "      <td>250</td>\n",
       "      <td>293</td>\n",
       "      <td>321</td>\n",
       "      <td>9836</td>\n",
       "      <td></td>\n",
       "      <td>113</td>\n",
       "      <td>43</td>\n",
       "      <td>10</td>\n",
       "      <td>25</td>\n",
       "      <td>9702</td>\n",
       "      <td>L2F</td>\n",
       "      <td>37</td>\n",
       "      <td>2.639057</td>\n",
       "      <td>6.864865</td>\n",
       "    </tr>\n",
       "  </tbody>\n",
       "</table>\n",
       "</div>"
      ],
      "text/plain": [
       "  STATE PVASTATE   DOB MDMAUD RECP3 GENDER DOMAIN  INCOME HOMEOWNR   HV1  \\\n",
       "0    IL           3712   XXXX            F     T2     4.0        U   479   \n",
       "1    CA           5202   XXXX            M     S1     6.0        H  5468   \n",
       "2    NC              0   XXXX            M     R2     3.0        U   497   \n",
       "3    CA           2801   XXXX            F     R2     1.0        U  1000   \n",
       "4    FL           2001   XXXX     X      F     S2     3.0        H   576   \n",
       "\n",
       "    HV2  HV3  HV4   IC1   IC2   IC3   IC4    IC5 VETERANS  NUMPROM  CARDPROM  \\\n",
       "0   635    3    2   307   318   349   378  12883                74        27   \n",
       "1  5218   12   10  1088  1096  1026  1037  36175                32        12   \n",
       "2   546    2    1   251   292   292   340  11576                63        26   \n",
       "3  1263    2    1   386   388   396   423  15130                66        27   \n",
       "4   594    4    3   240   250   293   321   9836               113        43   \n",
       "\n",
       "   CARDPM12  NUMPRM12  MAXADATE RFA_2  NGIFTALL   TIMELAG    AVGGIFT  \n",
       "0         6        14      9702   L4E        31  1.386294   7.741935  \n",
       "1         6        13      9702   L2G         3  2.890372  15.666667  \n",
       "2         6        14      9702   L4E        27  2.484907   7.481481  \n",
       "3         6        14      9702   L4E        16  2.197225   6.812500  \n",
       "4        10        25      9702   L2F        37  2.639057   6.864865  "
      ]
     },
     "execution_count": 3,
     "metadata": {},
     "output_type": "execute_result"
    }
   ],
   "source": [
    "data.head()"
   ]
  },
  {
   "cell_type": "code",
   "execution_count": 19,
   "metadata": {
    "colab": {
     "base_uri": "https://localhost:8080/"
    },
    "executionInfo": {
     "elapsed": 610,
     "status": "ok",
     "timestamp": 1612032492375,
     "user": {
      "displayName": "Ignacio Soteras",
      "photoUrl": "",
      "userId": "02050793736257155229"
     },
     "user_tz": -60
    },
    "id": "0_rLC5xe3TPZ",
    "outputId": "82601d78-e9a8-4b49-c2f1-15db36e8b099"
   },
   "outputs": [
    {
     "data": {
      "text/plain": [
       "(85661, 28)"
      ]
     },
     "execution_count": 19,
     "metadata": {
      "tags": []
     },
     "output_type": "execute_result"
    }
   ],
   "source": [
    "data.shape"
   ]
  },
  {
   "cell_type": "markdown",
   "metadata": {
    "id": "-aR9fCZKlA1P"
   },
   "source": [
    "Metadata:\n",
    "\n",
    "**STATE:** \n",
    "\n",
    "State abbreviation (a nominal/symbolic field)\n",
    "\n",
    "**PVASTATE**:\n",
    "\n",
    "EPVA State or PVA State\n",
    "Indicates whether the donor lives in a state served by the organization's EPVA chapter\n",
    "P = PVA State\n",
    "E = EPVA State (Northeastern US)\n",
    "\n",
    "**DOB:**\n",
    "\n",
    "Date of birth (YYMM, Year/Month format.)\n",
    "\n",
    "**RECP3**                      \n",
    "\n",
    "P3 File Flag_ = Not a P3 Record\n",
    "X = Donor has given to PVA's P3 program\n",
    "\n",
    "**MDMAUD**\n",
    "\n",
    "The Major Donor Matrix code. The codes describe frequency and amount of\n",
    "giving for donors who have given a $100+ gift at any time in their giving history. An RFA (recency/frequency/monetary) field. The (current) concatenated version is a nominal or symbolic field. The individual bytes could separately be used as fields and refer to the following: \n",
    "  \n",
    "First byte: Recency of Giving:\n",
    "\n",
    "*  C=Current Donor\n",
    "*  L=Lapsed Donor\n",
    "*  I=Inactive Donor\n",
    "*  D=Dormant Donor\n",
    "                           \n",
    "2nd byte: Frequency of Giving:\n",
    "\n",
    "*  1=One gift in the period of recency\n",
    "*  2=Two-Four gifts in the period of recency\n",
    "*  5=Five+ gifts in the period of recency\n",
    "                           \n",
    "3rd byte: Amount of Giving:\n",
    "\n",
    "*   L=Less than $100(Low Dollar)\n",
    "\n",
    "*   C=$100-499(Core)\n",
    "\n",
    "*   M=$500-999(Major)\n",
    "\n",
    "*   T=$1,000+(Top)\n",
    "                           \n",
    "4th byte: Blank/meaningless/filler:\n",
    "\n",
    "**'X'** \n",
    "\n",
    "Indicates that the donor is not a major donor.\n",
    "\n",
    "**'GENDER':** \n",
    "\n",
    "Gender of the donor\n",
    "\n",
    "**DOMAIN**  \n",
    "\n",
    "DOMAIN/Cluster code. A nominal or symbolic field. \n",
    "could be broken down by bytes as explained below.  \n",
    "                           \n",
    "1st byte = Urbanicity level of the donor's neighborhood\n",
    "\n",
    "*   U=Urban\n",
    "*   C=City\n",
    "*   S=Suburban\n",
    "*   T=Town\n",
    "*   R=Rural\n",
    "                           \n",
    "2nd byte = Socio-Economic status of the neighborhood\n",
    "\n",
    "*   1 = Highest SES\n",
    "*   2 = Average SES\n",
    "*   3 = Lowest SES (except for Urban communities, where 1 = Highest SES,2 = Above average SES,3 = Below average SES, 4 = Lowest SES.)\n",
    "\n",
    "**HOMEOWNR:** Home Owner Flag:\n",
    "\n",
    "*   H = Home owner \n",
    "*   U = Unknown\n",
    "\n",
    "**'INCOME'** HOUSEHOLD INCOME:\n",
    "\n",
    "**HV1**  Median Home Value in hundreds.\n",
    "\n",
    "**HV2** Average Home Value in hundreds.\n",
    "\n",
    "**HV3**  Median Contract Rent in hundreds.\n",
    "\n",
    "**HV4** Average Contract Rent in hundreds 'IC1'.\n",
    "\n",
    "**IC1**  Median Household Income in hundreds.\n",
    "\n",
    "**IC2**  Median Family Income in hundreds.\n",
    "\n",
    "**IC3**  Average Household Income in hundreds.\n",
    "\n",
    "**IC4** Average Family Income in hundreds.\n",
    "\n",
    "**IC5** Per Capita Income.\n",
    "\n",
    "**'VETERANS'**:   \n",
    "\n",
    "VETERANS (Y/N)\n",
    "\n",
    "**'RFA_2'**  \n",
    "\n",
    "Donor's RFA status as of 97NK promotion date \n",
    "\n",
    "**CARDPROM:** \n",
    "\n",
    "Lifetime number of card promotions received to date. Card promotions are promotion type: \n",
    "\n",
    "*   FS\n",
    "*   GK\n",
    "*   TK\n",
    "*   SK\n",
    "*   NK\n",
    "*   XK\n",
    "*   UF\n",
    "*   UU\n",
    "\n",
    "**MAXADATE:**\n",
    "\n",
    "Date of the most recent promotion received (in YYMM, Year/Month format)\n",
    "\n",
    "**NUMPROM:** \n",
    "\n",
    "Lifetime number of promotions received to date\n",
    "\n",
    "**CARDPM12:**\n",
    "\n",
    "Number of card promotions received in the last 12 months (in terms of calendar months translates into 9603-9702) \n",
    "\n",
    "**UMPRM12**\n",
    "\n",
    "Number of promotions received in the last 12months (in terms of calendar months translates into 9603-9702)\n",
    "\n",
    "**'NGIFTALL':**        \n",
    "\n",
    "Number of lifetime gifts to date.\n",
    "\n",
    "**'TIMELAG':**\n",
    "Number of months between first and second gift neighborhood demographics \n",
    "\n",
    "**AGE901:** \n",
    "\n",
    "Median Age of Population\n",
    "\n",
    "**AGE902:** \n",
    "\n",
    "Median Age of Adults 18 or Older\n",
    "\n",
    "**AGE903:** \n",
    "\n",
    "Median Age of Adults 25 or Older\n",
    "\n",
    "**'AVGGIFT'**\n",
    "\n",
    "Average git amount"
   ]
  },
  {
   "cell_type": "markdown",
   "metadata": {
    "id": "RMA0c6Bfriwp"
   },
   "source": [
    "## Checking data types"
   ]
  },
  {
   "cell_type": "code",
   "execution_count": 4,
   "metadata": {
    "colab": {
     "base_uri": "https://localhost:8080/"
    },
    "executionInfo": {
     "elapsed": 610,
     "status": "ok",
     "timestamp": 1612032499166,
     "user": {
      "displayName": "Ignacio Soteras",
      "photoUrl": "",
      "userId": "02050793736257155229"
     },
     "user_tz": -60
    },
    "id": "aVe-wEskrlw-",
    "outputId": "e6807f2c-0f09-444d-b764-8f750eecbe57"
   },
   "outputs": [
    {
     "name": "stdout",
     "output_type": "stream",
     "text": [
      "<class 'pandas.core.frame.DataFrame'>\n",
      "RangeIndex: 85661 entries, 0 to 85660\n",
      "Data columns (total 28 columns):\n",
      " #   Column    Non-Null Count  Dtype  \n",
      "---  ------    --------------  -----  \n",
      " 0   STATE     85661 non-null  object \n",
      " 1   PVASTATE  85661 non-null  object \n",
      " 2   DOB       85661 non-null  int64  \n",
      " 3   MDMAUD    85661 non-null  object \n",
      " 4   RECP3     85661 non-null  object \n",
      " 5   GENDER    85661 non-null  object \n",
      " 6   DOMAIN    85661 non-null  object \n",
      " 7   INCOME    85661 non-null  float64\n",
      " 8   HOMEOWNR  85661 non-null  object \n",
      " 9   HV1       85661 non-null  int64  \n",
      " 10  HV2       85661 non-null  int64  \n",
      " 11  HV3       85661 non-null  int64  \n",
      " 12  HV4       85661 non-null  int64  \n",
      " 13  IC1       85661 non-null  int64  \n",
      " 14  IC2       85661 non-null  int64  \n",
      " 15  IC3       85661 non-null  int64  \n",
      " 16  IC4       85661 non-null  int64  \n",
      " 17  IC5       85661 non-null  int64  \n",
      " 18  VETERANS  85661 non-null  object \n",
      " 19  NUMPROM   85661 non-null  int64  \n",
      " 20  CARDPROM  85661 non-null  int64  \n",
      " 21  CARDPM12  85661 non-null  int64  \n",
      " 22  NUMPRM12  85661 non-null  int64  \n",
      " 23  MAXADATE  85661 non-null  int64  \n",
      " 24  RFA_2     85661 non-null  object \n",
      " 25  NGIFTALL  85661 non-null  int64  \n",
      " 26  TIMELAG   85661 non-null  float64\n",
      " 27  AVGGIFT   85661 non-null  float64\n",
      "dtypes: float64(3), int64(16), object(9)\n",
      "memory usage: 18.3+ MB\n"
     ]
    }
   ],
   "source": [
    "data.info()"
   ]
  },
  {
   "cell_type": "markdown",
   "metadata": {
    "id": "mfodcX-xoTmW"
   },
   "source": [
    "# Lesson 1 Key Concepts"
   ]
  },
  {
   "cell_type": "markdown",
   "metadata": {
    "id": "AqdpAgnLoGlL"
   },
   "source": [
    "## Checking categorical columns"
   ]
  },
  {
   "cell_type": "code",
   "execution_count": 5,
   "metadata": {
    "colab": {
     "base_uri": "https://localhost:8080/",
     "height": 196
    },
    "executionInfo": {
     "elapsed": 509,
     "status": "ok",
     "timestamp": 1612032625046,
     "user": {
      "displayName": "Ignacio Soteras",
      "photoUrl": "",
      "userId": "02050793736257155229"
     },
     "user_tz": -60
    },
    "id": "6paxzIvHoafD",
    "outputId": "514cc28a-3088-48c7-98fd-5d37562cce16"
   },
   "outputs": [
    {
     "data": {
      "text/html": [
       "<div>\n",
       "<style scoped>\n",
       "    .dataframe tbody tr th:only-of-type {\n",
       "        vertical-align: middle;\n",
       "    }\n",
       "\n",
       "    .dataframe tbody tr th {\n",
       "        vertical-align: top;\n",
       "    }\n",
       "\n",
       "    .dataframe thead th {\n",
       "        text-align: right;\n",
       "    }\n",
       "</style>\n",
       "<table border=\"1\" class=\"dataframe\">\n",
       "  <thead>\n",
       "    <tr style=\"text-align: right;\">\n",
       "      <th></th>\n",
       "      <th>STATE</th>\n",
       "      <th>PVASTATE</th>\n",
       "      <th>MDMAUD</th>\n",
       "      <th>RECP3</th>\n",
       "      <th>GENDER</th>\n",
       "      <th>DOMAIN</th>\n",
       "      <th>HOMEOWNR</th>\n",
       "      <th>VETERANS</th>\n",
       "      <th>RFA_2</th>\n",
       "    </tr>\n",
       "  </thead>\n",
       "  <tbody>\n",
       "    <tr>\n",
       "      <th>0</th>\n",
       "      <td>IL</td>\n",
       "      <td></td>\n",
       "      <td>XXXX</td>\n",
       "      <td></td>\n",
       "      <td>F</td>\n",
       "      <td>T2</td>\n",
       "      <td>U</td>\n",
       "      <td></td>\n",
       "      <td>L4E</td>\n",
       "    </tr>\n",
       "    <tr>\n",
       "      <th>1</th>\n",
       "      <td>CA</td>\n",
       "      <td></td>\n",
       "      <td>XXXX</td>\n",
       "      <td></td>\n",
       "      <td>M</td>\n",
       "      <td>S1</td>\n",
       "      <td>H</td>\n",
       "      <td></td>\n",
       "      <td>L2G</td>\n",
       "    </tr>\n",
       "    <tr>\n",
       "      <th>2</th>\n",
       "      <td>NC</td>\n",
       "      <td></td>\n",
       "      <td>XXXX</td>\n",
       "      <td></td>\n",
       "      <td>M</td>\n",
       "      <td>R2</td>\n",
       "      <td>U</td>\n",
       "      <td></td>\n",
       "      <td>L4E</td>\n",
       "    </tr>\n",
       "    <tr>\n",
       "      <th>3</th>\n",
       "      <td>CA</td>\n",
       "      <td></td>\n",
       "      <td>XXXX</td>\n",
       "      <td></td>\n",
       "      <td>F</td>\n",
       "      <td>R2</td>\n",
       "      <td>U</td>\n",
       "      <td></td>\n",
       "      <td>L4E</td>\n",
       "    </tr>\n",
       "    <tr>\n",
       "      <th>4</th>\n",
       "      <td>FL</td>\n",
       "      <td></td>\n",
       "      <td>XXXX</td>\n",
       "      <td>X</td>\n",
       "      <td>F</td>\n",
       "      <td>S2</td>\n",
       "      <td>H</td>\n",
       "      <td></td>\n",
       "      <td>L2F</td>\n",
       "    </tr>\n",
       "  </tbody>\n",
       "</table>\n",
       "</div>"
      ],
      "text/plain": [
       "  STATE PVASTATE MDMAUD RECP3 GENDER DOMAIN HOMEOWNR VETERANS RFA_2\n",
       "0    IL            XXXX            F     T2        U            L4E\n",
       "1    CA            XXXX            M     S1        H            L2G\n",
       "2    NC            XXXX            M     R2        U            L4E\n",
       "3    CA            XXXX            F     R2        U            L4E\n",
       "4    FL            XXXX     X      F     S2        H            L2F"
      ]
     },
     "execution_count": 5,
     "metadata": {},
     "output_type": "execute_result"
    }
   ],
   "source": [
    "categoricals = data.select_dtypes(np.object)\n",
    "categoricals.head()"
   ]
  },
  {
   "cell_type": "markdown",
   "metadata": {
    "id": "6H_Lr7JVoiD_"
   },
   "source": [
    "## Deleting columns with over 80% empty values"
   ]
  },
  {
   "cell_type": "code",
   "execution_count": 6,
   "metadata": {
    "colab": {
     "base_uri": "https://localhost:8080/"
    },
    "executionInfo": {
     "elapsed": 596,
     "status": "ok",
     "timestamp": 1612032806814,
     "user": {
      "displayName": "Ignacio Soteras",
      "photoUrl": "",
      "userId": "02050793736257155229"
     },
     "user_tz": -60
    },
    "id": "SMVyQwp8olEL",
    "outputId": "9154a517-0399-47ac-a2af-72818afaa645"
   },
   "outputs": [
    {
     "data": {
      "text/plain": [
       "PVASTATE    0.0\n",
       "RECP3       0.0\n",
       "VETERANS    0.0\n",
       "dtype: float64"
      ]
     },
     "execution_count": 6,
     "metadata": {},
     "output_type": "execute_result"
    }
   ],
   "source": [
    "data[['PVASTATE','RECP3','VETERANS']].isna().sum()/len(data)"
   ]
  },
  {
   "cell_type": "markdown",
   "metadata": {
    "id": "ZujgZUgFpJJO"
   },
   "source": [
    "Apparently, there are no NA's. Hoewever..."
   ]
  },
  {
   "cell_type": "code",
   "execution_count": 7,
   "metadata": {
    "colab": {
     "base_uri": "https://localhost:8080/"
    },
    "executionInfo": {
     "elapsed": 732,
     "status": "ok",
     "timestamp": 1612032832403,
     "user": {
      "displayName": "Ignacio Soteras",
      "photoUrl": "",
      "userId": "02050793736257155229"
     },
     "user_tz": -60
    },
    "id": "uT_mLcwJpNBv",
    "outputId": "fc19e48f-1e15-4abe-ec94-cb32831c2159"
   },
   "outputs": [
    {
     "data": {
      "text/plain": [
       "     84349\n",
       "P     1307\n",
       "E        5\n",
       "Name: PVASTATE, dtype: int64"
      ]
     },
     "execution_count": 7,
     "metadata": {},
     "output_type": "execute_result"
    }
   ],
   "source": [
    "data['PVASTATE'].value_counts()"
   ]
  },
  {
   "cell_type": "code",
   "execution_count": 8,
   "metadata": {
    "colab": {
     "base_uri": "https://localhost:8080/"
    },
    "executionInfo": {
     "elapsed": 675,
     "status": "ok",
     "timestamp": 1612032848158,
     "user": {
      "displayName": "Ignacio Soteras",
      "photoUrl": "",
      "userId": "02050793736257155229"
     },
     "user_tz": -60
    },
    "id": "JkLWSkRapQK6",
    "outputId": "c3dd0a52-83c8-48c1-cdd7-4d856dc16d47"
   },
   "outputs": [
    {
     "data": {
      "text/plain": [
       "     83948\n",
       "X     1713\n",
       "Name: RECP3, dtype: int64"
      ]
     },
     "execution_count": 8,
     "metadata": {},
     "output_type": "execute_result"
    }
   ],
   "source": [
    "data['RECP3'].value_counts()"
   ]
  },
  {
   "cell_type": "code",
   "execution_count": 9,
   "metadata": {
    "colab": {
     "base_uri": "https://localhost:8080/"
    },
    "executionInfo": {
     "elapsed": 1073,
     "status": "ok",
     "timestamp": 1612032866800,
     "user": {
      "displayName": "Ignacio Soteras",
      "photoUrl": "",
      "userId": "02050793736257155229"
     },
     "user_tz": -60
    },
    "id": "b-9tmTzJpVOp",
    "outputId": "e327a2e4-723a-4cc5-d005-47fa60ad8633"
   },
   "outputs": [
    {
     "data": {
      "text/plain": [
       "     76134\n",
       "Y     9527\n",
       "Name: VETERANS, dtype: int64"
      ]
     },
     "execution_count": 9,
     "metadata": {},
     "output_type": "execute_result"
    }
   ],
   "source": [
    "data['VETERANS'].value_counts()"
   ]
  },
  {
   "cell_type": "markdown",
   "metadata": {
    "id": "SEAccrPxp9W2"
   },
   "source": [
    "Lot's of entriesd in those columns have missing values and the ones which don't are not usefull has they have contant values. Therefore, let's drop them."
   ]
  },
  {
   "cell_type": "code",
   "execution_count": 10,
   "metadata": {
    "executionInfo": {
     "elapsed": 860,
     "status": "ok",
     "timestamp": 1612033077006,
     "user": {
      "displayName": "Ignacio Soteras",
      "photoUrl": "",
      "userId": "02050793736257155229"
     },
     "user_tz": -60
    },
    "id": "RgVHOLkzpYjM"
   },
   "outputs": [],
   "source": [
    "data = data.drop(columns=['PVASTATE', 'RECP3', 'VETERANS'], axis=1)"
   ]
  },
  {
   "cell_type": "markdown",
   "metadata": {
    "id": "iu_sSgBKqNhI"
   },
   "source": [
    "## Inspecting `HOMEOWNR`"
   ]
  },
  {
   "cell_type": "code",
   "execution_count": 11,
   "metadata": {
    "colab": {
     "base_uri": "https://localhost:8080/"
    },
    "executionInfo": {
     "elapsed": 705,
     "status": "ok",
     "timestamp": 1612033146758,
     "user": {
      "displayName": "Ignacio Soteras",
      "photoUrl": "",
      "userId": "02050793736257155229"
     },
     "user_tz": -60
    },
    "id": "GtJ-Uv-3qTcP",
    "outputId": "0a23e7cd-cad1-4942-f72d-c0f209d3240d"
   },
   "outputs": [
    {
     "data": {
      "text/plain": [
       "H    48420\n",
       "U    37241\n",
       "Name: HOMEOWNR, dtype: int64"
      ]
     },
     "execution_count": 11,
     "metadata": {},
     "output_type": "execute_result"
    }
   ],
   "source": [
    "data['HOMEOWNR'].value_counts()"
   ]
  },
  {
   "cell_type": "markdown",
   "metadata": {
    "id": "9-GB8EC5qh5e"
   },
   "source": [
    "As you can see, there is a lot of null values in the column (coded as `U`) but it is still not as many that the column might be removed. And if we filter out those values we will lose a lot of data. Another way of replacing those empty values is by replacing them with the maximum represented category but this introduces a bias. Another advanced methods include using machine learning to predict those values. Here in this case we will delete this column instead of inducing a bias."
   ]
  },
  {
   "cell_type": "code",
   "execution_count": 30,
   "metadata": {
    "executionInfo": {
     "elapsed": 595,
     "status": "ok",
     "timestamp": 1612033250193,
     "user": {
      "displayName": "Ignacio Soteras",
      "photoUrl": "",
      "userId": "02050793736257155229"
     },
     "user_tz": -60
    },
    "id": "zeSnfiBcqzFH"
   },
   "outputs": [],
   "source": [
    "data = data.drop(columns=['HOMEOWNR'], axis=1)"
   ]
  },
  {
   "cell_type": "markdown",
   "metadata": {
    "id": "yEcoyIH_q_FD"
   },
   "source": [
    "## Activity"
   ]
  },
  {
   "cell_type": "markdown",
   "metadata": {
    "id": "suRrcQwUrBlb"
   },
   "source": [
    "Keep working with unit4.csv that you already have locally - the same dataset you used in the previous lesson. (We didn't add the file once again within this activity folder, since it is a large file that would consume unnecessary space on your drive.)\n",
    "\n",
    "Discuss which option is better to clean the rows where the values are empty for the column DOMAIN.\n",
    "\n",
    "* Option 1: Filtering the rows with the empty values.\n",
    "* Option 2: Replacing the empty values with some other category, the most frequently represented value in that column."
   ]
  },
  {
   "cell_type": "code",
   "execution_count": 12,
   "metadata": {
    "executionInfo": {
     "elapsed": 648,
     "status": "ok",
     "timestamp": 1612033444863,
     "user": {
      "displayName": "Ignacio Soteras",
      "photoUrl": "",
      "userId": "02050793736257155229"
     },
     "user_tz": -60
    },
    "id": "urhg4MiCrYra"
   },
   "outputs": [],
   "source": [
    "#@Solution1\n",
    "data = data[data['DOMAIN'] != \" \"]\n",
    "\n",
    "# Note after you filter, it is a good practice to reset the index\n",
    "data = data.reset_index(drop=True)"
   ]
  },
  {
   "cell_type": "code",
   "execution_count": 13,
   "metadata": {
    "colab": {
     "base_uri": "https://localhost:8080/"
    },
    "executionInfo": {
     "elapsed": 747,
     "status": "ok",
     "timestamp": 1612033446683,
     "user": {
      "displayName": "Ignacio Soteras",
      "photoUrl": "",
      "userId": "02050793736257155229"
     },
     "user_tz": -60
    },
    "id": "1E16Y6Cfrj6u",
    "outputId": "12297041-b1d3-4445-eb21-7f989243704d"
   },
   "outputs": [
    {
     "data": {
      "text/plain": [
       "R2    12281\n",
       "T2    11164\n",
       "S1    10240\n",
       "S2     7650\n",
       "C2     7477\n",
       "C1     5484\n",
       "C3     4797\n",
       "T1     4472\n",
       "R3     4315\n",
       "U1     3987\n",
       "U2     2912\n",
       "U3     2345\n",
       "T3     1999\n",
       "S3     1714\n",
       "U4     1619\n",
       "R1     1200\n",
       "Name: DOMAIN, dtype: int64"
      ]
     },
     "execution_count": 13,
     "metadata": {},
     "output_type": "execute_result"
    }
   ],
   "source": [
    "#@Solution1_final\n",
    "data[\"DOMAIN\"].value_counts()"
   ]
  },
  {
   "cell_type": "markdown",
   "metadata": {
    "id": "qZWj8u3CrwkQ"
   },
   "source": [
    "# Lesson 2 Key Concepts"
   ]
  },
  {
   "cell_type": "markdown",
   "metadata": {
    "id": "OIfnKs7GsQfE"
   },
   "source": [
    "* Using the map function to work on categories of a column\n",
    "* Comparing categorical features with Y using box plot\n",
    "* Impute missing values"
   ]
  },
  {
   "cell_type": "markdown",
   "metadata": {
    "id": "mqdLWqWYshyH"
   },
   "source": [
    "## Cleaning column GENDER"
   ]
  },
  {
   "cell_type": "code",
   "execution_count": 14,
   "metadata": {
    "colab": {
     "base_uri": "https://localhost:8080/"
    },
    "executionInfo": {
     "elapsed": 654,
     "status": "ok",
     "timestamp": 1612033722050,
     "user": {
      "displayName": "Ignacio Soteras",
      "photoUrl": "",
      "userId": "02050793736257155229"
     },
     "user_tz": -60
    },
    "id": "GemP4bFEsj_T",
    "outputId": "aabca11f-49f5-404e-82f7-a8cd63f05c81"
   },
   "outputs": [
    {
     "data": {
      "text/plain": [
       "F    47477\n",
       "M    36179\n",
       "Name: GENDER, dtype: int64"
      ]
     },
     "execution_count": 14,
     "metadata": {},
     "output_type": "execute_result"
    }
   ],
   "source": [
    "data['GENDER'].value_counts()"
   ]
  },
  {
   "cell_type": "code",
   "execution_count": 15,
   "metadata": {
    "executionInfo": {
     "elapsed": 649,
     "status": "ok",
     "timestamp": 1612033752226,
     "user": {
      "displayName": "Ignacio Soteras",
      "photoUrl": "",
      "userId": "02050793736257155229"
     },
     "user_tz": -60
    },
    "id": "4LSPBZSQso87"
   },
   "outputs": [],
   "source": [
    "def clean_gender_col(x):\n",
    "    if x in ['',' ' ,'U', 'C', 'J', 'A']:\n",
    "        return 'other'\n",
    "    else:\n",
    "        return x\n",
    "\n",
    "data['GENDER'] = list(map(clean_gender_col, data['GENDER']))"
   ]
  },
  {
   "cell_type": "markdown",
   "metadata": {
    "id": "txCrrjRuszgp"
   },
   "source": [
    "## Visually analyzing categorical data with Target variable"
   ]
  },
  {
   "cell_type": "markdown",
   "metadata": {
    "id": "_Pozn708s_VK"
   },
   "source": [
    "There is any difference between the `AVGGIT` granted to men and women?"
   ]
  },
  {
   "cell_type": "code",
   "execution_count": 16,
   "metadata": {
    "colab": {
     "base_uri": "https://localhost:8080/",
     "height": 541
    },
    "executionInfo": {
     "elapsed": 2063,
     "status": "ok",
     "timestamp": 1612033798440,
     "user": {
      "displayName": "Ignacio Soteras",
      "photoUrl": "",
      "userId": "02050793736257155229"
     },
     "user_tz": -60
    },
    "id": "PKmAINGcs3yO",
    "outputId": "d95ecb68-3b18-4425-a8f7-5c1f7df63610"
   },
   "outputs": [
    {
     "data": {
      "image/png": "[encoded data removed]",
      "text/plain": [
       "<Figure size 432x288 with 1 Axes>"
      ]
     },
     "metadata": {
      "needs_background": "light"
     },
     "output_type": "display_data"
    },
    {
     "data": {
      "image/png": "[encoded data removed]",
      "text/plain": [
       "<Figure size 432x288 with 1 Axes>"
      ]
     },
     "metadata": {
      "needs_background": "light"
     },
     "output_type": "display_data"
    }
   ],
   "source": [
    "sns.boxplot(x=\"GENDER\", y=\"AVGGIFT\", data=data)\n",
    "plt.show()\n",
    "\n",
    "sns.barplot(x=\"GENDER\", y=\"AVGGIFT\", data=data)\n",
    "plt.show()"
   ]
  },
  {
   "cell_type": "markdown",
   "metadata": {
    "id": "S4MsyhQWtseO"
   },
   "source": [
    "Remember that sns.barplot is displaying the **sample mean** alongside and `error bar` which is the **uncertainty** of the estimation."
   ]
  },
  {
   "cell_type": "markdown",
   "metadata": {
    "id": "VB0l61DDuNEk"
   },
   "source": [
    "Looking at the box plot, we can see that there is not a lot of variation in Y with different categories. Therefore, the `gender` **is not good in determining the AVGGIFT**. Thus, we can delete the column gender"
   ]
  },
  {
   "cell_type": "code",
   "execution_count": 17,
   "metadata": {
    "executionInfo": {
     "elapsed": 661,
     "status": "ok",
     "timestamp": 1612034218342,
     "user": {
      "displayName": "Ignacio Soteras",
      "photoUrl": "",
      "userId": "02050793736257155229"
     },
     "user_tz": -60
    },
    "id": "T0vgBi42ugqM"
   },
   "outputs": [],
   "source": [
    "data = data.drop(columns=['GENDER'], axis=1)"
   ]
  },
  {
   "cell_type": "markdown",
   "metadata": {
    "id": "utpUt8PPulef"
   },
   "source": [
    "## Activity "
   ]
  },
  {
   "cell_type": "markdown",
   "metadata": {
    "id": "0XLnztAquzBJ"
   },
   "source": [
    "There is a more efficient way to use map over pandas dataframes, and it is called **apply**.\n",
    "\n",
    "* Use it instead of the map for applying the previous function to the same data.\n",
    "\n",
    "* Do the same using the equivalent lambda function."
   ]
  },
  {
   "cell_type": "code",
   "execution_count": null,
   "metadata": {
    "id": "9b2Hgc1wu5mb"
   },
   "outputs": [],
   "source": [
    "#data['GENDER'] = data['GENDER'].apply(clean_gender_col)\n",
    "\n",
    "#data['GENDER'] = data['GENDER'].apply(lambda x: 'other' if x in ['',' ' ,'U', 'C', 'J', 'A'] else x)"
   ]
  },
  {
   "cell_type": "markdown",
   "metadata": {
    "id": "TUCsL6gevFkl"
   },
   "source": [
    "# Lesson 3 Key Concepts"
   ]
  },
  {
   "cell_type": "markdown",
   "metadata": {
    "id": "_DujGOLBvJWe"
   },
   "source": [
    "* Dealing with a large number of categories in a column\n",
    "* Grouping data/bucketing data"
   ]
  },
  {
   "cell_type": "markdown",
   "metadata": {
    "id": "82sfo1AQvv3N"
   },
   "source": [
    "## Dealing with `STATE`"
   ]
  },
  {
   "cell_type": "markdown",
   "metadata": {
    "id": "mZm3dslnv6o2"
   },
   "source": [
    "Let's group the states in smaller groups. For that, we're going to group together all the states for which we have a number of records smaller than 2500. Bear in mind that this value is very subjective and as long as the time goes on, you might want to change this values as the underepresented states will be different."
   ]
  },
  {
   "cell_type": "code",
   "execution_count": 18,
   "metadata": {
    "colab": {
     "base_uri": "https://localhost:8080/"
    },
    "executionInfo": {
     "elapsed": 775,
     "status": "ok",
     "timestamp": 1612034701211,
     "user": {
      "displayName": "Ignacio Soteras",
      "photoUrl": "",
      "userId": "02050793736257155229"
     },
     "user_tz": -60
    },
    "id": "oSL-GqC8vzBR",
    "outputId": "dfee8656-95dd-4671-dfe4-6de0acba21da"
   },
   "outputs": [
    {
     "data": {
      "text/plain": [
       "['WI',\n",
       " 'MO',\n",
       " 'TN',\n",
       " 'AZ',\n",
       " 'MN',\n",
       " 'OR',\n",
       " 'CO',\n",
       " 'SC',\n",
       " 'AL',\n",
       " 'KY',\n",
       " 'LA',\n",
       " 'OK',\n",
       " 'IA',\n",
       " 'KS',\n",
       " 'MS',\n",
       " 'NV',\n",
       " 'AR',\n",
       " 'NM',\n",
       " 'NE',\n",
       " 'UT',\n",
       " 'ID',\n",
       " 'MT',\n",
       " 'HI',\n",
       " 'AK',\n",
       " 'SD',\n",
       " 'WY',\n",
       " 'ND',\n",
       " 'AP',\n",
       " 'NY',\n",
       " 'OH',\n",
       " 'VA',\n",
       " 'PA',\n",
       " 'MD',\n",
       " 'NJ',\n",
       " 'MA',\n",
       " 'CT',\n",
       " 'AA',\n",
       " 'AE',\n",
       " 'ME',\n",
       " 'NH',\n",
       " 'VT',\n",
       " 'RI',\n",
       " 'WV',\n",
       " 'DE',\n",
       " 'GU',\n",
       " 'VI',\n",
       " 'DC']"
      ]
     },
     "execution_count": 18,
     "metadata": {},
     "output_type": "execute_result"
    }
   ],
   "source": [
    "vals = pd.DataFrame(data['STATE'].value_counts())\n",
    "vals = vals.reset_index()\n",
    "vals.columns = ['state', 'counts']\n",
    "group_states_df = vals[vals['counts']<2500]\n",
    "group_states = list(group_states_df['state'])\n",
    "group_states"
   ]
  },
  {
   "cell_type": "code",
   "execution_count": 19,
   "metadata": {
    "executionInfo": {
     "elapsed": 711,
     "status": "ok",
     "timestamp": 1612034759807,
     "user": {
      "displayName": "Ignacio Soteras",
      "photoUrl": "",
      "userId": "02050793736257155229"
     },
     "user_tz": -60
    },
    "id": "pwd7tTSvwdsS"
   },
   "outputs": [],
   "source": [
    "def clean_state(x):\n",
    "    if x in group_states:\n",
    "        return 'other'\n",
    "    else:\n",
    "        return x\n",
    "\n",
    "data['STATE'] = list(map(clean_state, data['STATE']))"
   ]
  },
  {
   "cell_type": "markdown",
   "metadata": {
    "id": "nAJ9n9T-wqfn"
   },
   "source": [
    "## Creating buckets/groups of data"
   ]
  },
  {
   "cell_type": "markdown",
   "metadata": {
    "id": "3ypxNCK8w1wF"
   },
   "source": [
    "Let's make five groups for the variable `ic2_` with the following labels: ['Low', 'Moderate', 'High', 'Very High'].\n",
    "Those groups will have the same size."
   ]
  },
  {
   "cell_type": "code",
   "execution_count": 20,
   "metadata": {
    "colab": {
     "base_uri": "https://localhost:8080/"
    },
    "executionInfo": {
     "elapsed": 755,
     "status": "ok",
     "timestamp": 1612034953429,
     "user": {
      "displayName": "Ignacio Soteras",
      "photoUrl": "",
      "userId": "02050793736257155229"
     },
     "user_tz": -60
    },
    "id": "XFkupl0ZxTIo",
    "outputId": "9b4d264b-d660-4360-97b3-2d0ea93f7022"
   },
   "outputs": [
    {
     "data": {
      "text/plain": [
       "Index(['STATE', 'DOB', 'MDMAUD', 'DOMAIN', 'INCOME', 'HOMEOWNR', 'HV1', 'HV2',\n",
       "       'HV3', 'HV4', 'IC1', 'IC2', 'IC3', 'IC4', 'IC5', 'NUMPROM', 'CARDPROM',\n",
       "       'CARDPM12', 'NUMPRM12', 'MAXADATE', 'RFA_2', 'NGIFTALL', 'TIMELAG',\n",
       "       'AVGGIFT'],\n",
       "      dtype='object')"
      ]
     },
     "execution_count": 20,
     "metadata": {},
     "output_type": "execute_result"
    }
   ],
   "source": [
    "data.columns"
   ]
  },
  {
   "cell_type": "code",
   "execution_count": 21,
   "metadata": {
    "colab": {
     "base_uri": "https://localhost:8080/"
    },
    "executionInfo": {
     "elapsed": 770,
     "status": "ok",
     "timestamp": 1612034976561,
     "user": {
      "displayName": "Ignacio Soteras",
      "photoUrl": "",
      "userId": "02050793736257155229"
     },
     "user_tz": -60
    },
    "id": "a0HPngunwu1x",
    "outputId": "da97dc52-cae0-48fc-fdb9-f9ec26fcc773"
   },
   "outputs": [
    {
     "data": {
      "text/plain": [
       "0         Low\n",
       "1        High\n",
       "2         Low\n",
       "3    Moderate\n",
       "4         Low\n",
       "Name: IC2_, dtype: category\n",
       "Categories (4, object): ['Low' < 'Moderate' < 'High' < 'Very High']"
      ]
     },
     "execution_count": 21,
     "metadata": {},
     "output_type": "execute_result"
    }
   ],
   "source": [
    "ic2_labels = ['Low', 'Moderate', 'High', 'Very High']\n",
    "data['IC2_'] = pd.cut(data['IC2'],4, labels=ic2_labels) \n",
    "data['IC2_'].head()"
   ]
  },
  {
   "cell_type": "markdown",
   "metadata": {
    "id": "8HCIUT4KxgEv"
   },
   "source": [
    "Another possibility is to group the values based on the **quantiles**"
   ]
  },
  {
   "cell_type": "code",
   "execution_count": 22,
   "metadata": {
    "colab": {
     "base_uri": "https://localhost:8080/",
     "height": 196
    },
    "executionInfo": {
     "elapsed": 774,
     "status": "ok",
     "timestamp": 1612035134370,
     "user": {
      "displayName": "Ignacio Soteras",
      "photoUrl": "",
      "userId": "02050793736257155229"
     },
     "user_tz": -60
    },
    "id": "t8o6GdEExn5d",
    "outputId": "c8ae5572-65de-46cc-a2ca-f4cad9df4608"
   },
   "outputs": [
    {
     "data": {
      "text/html": [
       "<div>\n",
       "<style scoped>\n",
       "    .dataframe tbody tr th:only-of-type {\n",
       "        vertical-align: middle;\n",
       "    }\n",
       "\n",
       "    .dataframe tbody tr th {\n",
       "        vertical-align: top;\n",
       "    }\n",
       "\n",
       "    .dataframe thead th {\n",
       "        text-align: right;\n",
       "    }\n",
       "</style>\n",
       "<table border=\"1\" class=\"dataframe\">\n",
       "  <thead>\n",
       "    <tr style=\"text-align: right;\">\n",
       "      <th></th>\n",
       "      <th>IC2</th>\n",
       "      <th>IC2</th>\n",
       "    </tr>\n",
       "  </thead>\n",
       "  <tbody>\n",
       "    <tr>\n",
       "      <th>0</th>\n",
       "      <td>(273.0, 355.0]</td>\n",
       "      <td>318</td>\n",
       "    </tr>\n",
       "    <tr>\n",
       "      <th>1</th>\n",
       "      <td>(464.0, 1500.0]</td>\n",
       "      <td>1096</td>\n",
       "    </tr>\n",
       "    <tr>\n",
       "      <th>2</th>\n",
       "      <td>(273.0, 355.0]</td>\n",
       "      <td>292</td>\n",
       "    </tr>\n",
       "    <tr>\n",
       "      <th>3</th>\n",
       "      <td>(355.0, 464.0]</td>\n",
       "      <td>388</td>\n",
       "    </tr>\n",
       "    <tr>\n",
       "      <th>4</th>\n",
       "      <td>(-0.001, 273.0]</td>\n",
       "      <td>250</td>\n",
       "    </tr>\n",
       "  </tbody>\n",
       "</table>\n",
       "</div>"
      ],
      "text/plain": [
       "               IC2   IC2\n",
       "0   (273.0, 355.0]   318\n",
       "1  (464.0, 1500.0]  1096\n",
       "2   (273.0, 355.0]   292\n",
       "3   (355.0, 464.0]   388\n",
       "4  (-0.001, 273.0]   250"
      ]
     },
     "execution_count": 22,
     "metadata": {},
     "output_type": "execute_result"
    }
   ],
   "source": [
    "pd.concat([pd.qcut(data['IC2'],4),data['IC2']], axis= 1).head()"
   ]
  },
  {
   "cell_type": "markdown",
   "metadata": {
    "id": "wsTraeZo1nbz"
   },
   "source": [
    "## Activity"
   ]
  },
  {
   "cell_type": "markdown",
   "metadata": {
    "id": "edJxP7dA1uBy"
   },
   "source": [
    "Use the column `MDMAUD` to reduce the number of categories to two (XXXX and other)."
   ]
  },
  {
   "cell_type": "code",
   "execution_count": 23,
   "metadata": {
    "executionInfo": {
     "elapsed": 702,
     "status": "ok",
     "timestamp": 1612036191051,
     "user": {
      "displayName": "Ignacio Soteras",
      "photoUrl": "",
      "userId": "02050793736257155229"
     },
     "user_tz": -60
    },
    "id": "LQ34ZCO-13Bi"
   },
   "outputs": [],
   "source": [
    "data[\"MDMAUD\"] = data[\"MDMAUD\"].apply(lambda x: \"other\" if x != \"XXXX\" else x)"
   ]
  },
  {
   "cell_type": "markdown",
   "metadata": {
    "id": "ZoDVyPqn3vno"
   },
   "source": [
    "# Lesson 4 Key Concepts"
   ]
  },
  {
   "cell_type": "markdown",
   "metadata": {
    "id": "yD_pcKrE2Gz-"
   },
   "source": [
    "## ReGular EXpressions"
   ]
  },
  {
   "cell_type": "markdown",
   "metadata": {
    "id": "LXBPvMQB2Mpn"
   },
   "source": [
    "We can make use of REGEX in Python importing the lirary `re`.\n",
    "Let's see some examples."
   ]
  },
  {
   "cell_type": "code",
   "execution_count": 24,
   "metadata": {
    "colab": {
     "base_uri": "https://localhost:8080/"
    },
    "executionInfo": {
     "elapsed": 605,
     "status": "ok",
     "timestamp": 1612036325330,
     "user": {
      "displayName": "Ignacio Soteras",
      "photoUrl": "",
      "userId": "02050793736257155229"
     },
     "user_tz": -60
    },
    "id": "x57xemKU2Vlm",
    "outputId": "e798255f-c827-4742-d7ad-78e19da22df3"
   },
   "outputs": [
    {
     "data": {
      "text/plain": [
       "['T',\n",
       " 'h',\n",
       " 'a',\n",
       " 't',\n",
       " 'p',\n",
       " 'e',\n",
       " 'r',\n",
       " 's',\n",
       " 'o',\n",
       " 'n',\n",
       " 'w',\n",
       " 'e',\n",
       " 'a',\n",
       " 'r',\n",
       " 's',\n",
       " 'm',\n",
       " 'a',\n",
       " 'r',\n",
       " 'v',\n",
       " 'e',\n",
       " 'l',\n",
       " 'o',\n",
       " 'u',\n",
       " 's',\n",
       " 't',\n",
       " 'r',\n",
       " 'o',\n",
       " 'u',\n",
       " 's',\n",
       " 'e',\n",
       " 'r',\n",
       " 's']"
      ]
     },
     "execution_count": 24,
     "metadata": {},
     "output_type": "execute_result"
    }
   ],
   "source": [
    "import re\n",
    "\n",
    "text = \"That person wears marvelous trousers.\"\n",
    "\n",
    "pattern = '[A-z]'\n",
    "re.findall(pattern, text)"
   ]
  },
  {
   "cell_type": "code",
   "execution_count": 25,
   "metadata": {
    "colab": {
     "base_uri": "https://localhost:8080/"
    },
    "executionInfo": {
     "elapsed": 687,
     "status": "ok",
     "timestamp": 1612036351926,
     "user": {
      "displayName": "Ignacio Soteras",
      "photoUrl": "",
      "userId": "02050793736257155229"
     },
     "user_tz": -60
    },
    "id": "OzRyKVze2gu1",
    "outputId": "96ee7bdf-8570-4329-b507-fda2d28a33b4"
   },
   "outputs": [
    {
     "data": {
      "text/plain": [
       "['That']"
      ]
     },
     "execution_count": 25,
     "metadata": {},
     "output_type": "execute_result"
    }
   ],
   "source": [
    "pattern = 'That'\n",
    "re.findall(pattern, text)"
   ]
  },
  {
   "cell_type": "code",
   "execution_count": 26,
   "metadata": {
    "colab": {
     "base_uri": "https://localhost:8080/"
    },
    "executionInfo": {
     "elapsed": 670,
     "status": "ok",
     "timestamp": 1612036368867,
     "user": {
      "displayName": "Ignacio Soteras",
      "photoUrl": "",
      "userId": "02050793736257155229"
     },
     "user_tz": -60
    },
    "id": "JgZO5Z672q-S",
    "outputId": "59142016-5063-4543-fc36-4f25be2de075"
   },
   "outputs": [
    {
     "data": {
      "text/plain": [
       "['h', 'a', 't', 's', 'a', 's', 'a', 's', 't', 's', 's']"
      ]
     },
     "execution_count": 26,
     "metadata": {},
     "output_type": "execute_result"
    }
   ],
   "source": [
    "pattern = '[atsdhksdgs]'\n",
    "re.findall(pattern, text)"
   ]
  },
  {
   "cell_type": "code",
   "execution_count": 27,
   "metadata": {
    "colab": {
     "base_uri": "https://localhost:8080/"
    },
    "executionInfo": {
     "elapsed": 652,
     "status": "ok",
     "timestamp": 1612036380798,
     "user": {
      "displayName": "Ignacio Soteras",
      "photoUrl": "",
      "userId": "02050793736257155229"
     },
     "user_tz": -60
    },
    "id": "u56ydp3U2vm_",
    "outputId": "261498b9-12e1-46f6-9e5b-9958211320cd"
   },
   "outputs": [
    {
     "data": {
      "text/plain": [
       "[' ', ' ', ' ', ' ', ' ', ' ', ',', ' ', ' ', ' ', ' ', ' ', ' ', ' ', '.']"
      ]
     },
     "execution_count": 27,
     "metadata": {},
     "output_type": "execute_result"
    }
   ],
   "source": [
    "text = \"This is an A and B conversation, so C your way out of it.\"\n",
    "pattern = '[^A-z]'\n",
    "re.findall(pattern, text)"
   ]
  },
  {
   "cell_type": "markdown",
   "metadata": {
    "id": "zHug4DtL29yO"
   },
   "source": [
    "Quantifiers:\n",
    "\n",
    "*: Matches previous character 0 or more times\n",
    "\n",
    "+: Matches previous character 1 or more times\n",
    "\n",
    "?: Matches previous character 0 or 1 times (optional)\n",
    "\n",
    "{}: Matches previous characters however many times specified within:\n",
    "\n",
    "{n}: Exactly n times\n",
    "\n",
    "{n,}: At least n times\n",
    "\n",
    "{n,m}: Between n and m times"
   ]
  },
  {
   "cell_type": "code",
   "execution_count": 28,
   "metadata": {
    "colab": {
     "base_uri": "https://localhost:8080/"
    },
    "executionInfo": {
     "elapsed": 744,
     "status": "ok",
     "timestamp": 1612036483410,
     "user": {
      "displayName": "Ignacio Soteras",
      "photoUrl": "",
      "userId": "02050793736257155229"
     },
     "user_tz": -60
    },
    "id": "IYWlhiOP3G3o",
    "outputId": "3eb4af14-32c5-4467-d522-8a81cd2c0dde"
   },
   "outputs": [
    {
     "name": "stdout",
     "output_type": "stream",
     "text": [
      "['t', 't', 't', 'ct', 't', 't', 't', 't', 'ct', 'ct']\n"
     ]
    }
   ],
   "source": [
    "text = \"The complicit caat interacted with the other cats exactly as we expected.\"\n",
    "pattern = \"c*t\"\n",
    "print(re.findall(pattern, text))"
   ]
  },
  {
   "cell_type": "code",
   "execution_count": 29,
   "metadata": {
    "colab": {
     "base_uri": "https://localhost:8080/"
    },
    "executionInfo": {
     "elapsed": 752,
     "status": "ok",
     "timestamp": 1612036567898,
     "user": {
      "displayName": "Ignacio Soteras",
      "photoUrl": "",
      "userId": "02050793736257155229"
     },
     "user_tz": -60
    },
    "id": "avSIP5fH3c5t",
    "outputId": "7521c0b3-88c8-44c6-d357-c3c12000a8e8"
   },
   "outputs": [
    {
     "name": "stdout",
     "output_type": "stream",
     "text": [
      "['t', 'caat', 't', 'ct', 't', 't', 't', 'cat', 'ct', 'ct']\n"
     ]
    }
   ],
   "source": [
    "text = \"The complicit caat interacted with the other cats exactly as we expected.\"\n",
    "\n",
    "pattern = 'c*a*t'\n",
    "print(re.findall(pattern, text))"
   ]
  },
  {
   "cell_type": "code",
   "execution_count": 30,
   "metadata": {
    "colab": {
     "base_uri": "https://localhost:8080/"
    },
    "executionInfo": {
     "elapsed": 771,
     "status": "ok",
     "timestamp": 1612036595544,
     "user": {
      "displayName": "Ignacio Soteras",
      "photoUrl": "",
      "userId": "02050793736257155229"
     },
     "user_tz": -60
    },
    "id": "S9teV2Ng3iko",
    "outputId": "1cc41f9e-c170-415a-851b-d05ab05ff2ba"
   },
   "outputs": [
    {
     "name": "stdout",
     "output_type": "stream",
     "text": [
      "['aaaa', 'a', 'a', 'a', 'a']\n"
     ]
    }
   ],
   "source": [
    "text = \"The complicit caaaat ct interacted with the other cats exactly as we expected.\"\n",
    "pattern = \"a+\"\n",
    "print(re.findall(pattern, text))"
   ]
  },
  {
   "cell_type": "code",
   "execution_count": 31,
   "metadata": {
    "colab": {
     "base_uri": "https://localhost:8080/"
    },
    "executionInfo": {
     "elapsed": 772,
     "status": "ok",
     "timestamp": 1612036657286,
     "user": {
      "displayName": "Ignacio Soteras",
      "photoUrl": "",
      "userId": "02050793736257155229"
     },
     "user_tz": -60
    },
    "id": "S4M4cSvz3qgw",
    "outputId": "39946ce5-5b46-465d-8b5a-c6dac84d305a"
   },
   "outputs": [
    {
     "name": "stdout",
     "output_type": "stream",
     "text": [
      "['color', 'colour']\n"
     ]
    }
   ],
   "source": [
    "text = \"Is the correct spelling color or colour?\"\n",
    "pattern = \"colou?r\"\n",
    "print(re.findall(pattern, text))"
   ]
  },
  {
   "cell_type": "code",
   "execution_count": 32,
   "metadata": {
    "colab": {
     "base_uri": "https://localhost:8080/"
    },
    "executionInfo": {
     "elapsed": 691,
     "status": "ok",
     "timestamp": 1612036703781,
     "user": {
      "displayName": "Ignacio Soteras",
      "photoUrl": "",
      "userId": "02050793736257155229"
     },
     "user_tz": -60
    },
    "id": "0NruMIVW3_bm",
    "outputId": "51b11e9e-d4cc-493b-aa26-e62dd80367d3"
   },
   "outputs": [
    {
     "name": "stdout",
     "output_type": "stream",
     "text": [
      "['awww', 'awww', 'awww', 'awww']\n"
     ]
    }
   ],
   "source": [
    "text = \"We can match the following: aaaawwww, aww, awww, awwww, awwwww\"\n",
    "pattern = \"aw{3}\"\n",
    "print(re.findall(pattern, text))"
   ]
  },
  {
   "cell_type": "code",
   "execution_count": 33,
   "metadata": {
    "colab": {
     "base_uri": "https://localhost:8080/"
    },
    "executionInfo": {
     "elapsed": 769,
     "status": "ok",
     "timestamp": 1612036755806,
     "user": {
      "displayName": "Ignacio Soteras",
      "photoUrl": "",
      "userId": "02050793736257155229"
     },
     "user_tz": -60
    },
    "id": "00eIW4MC4Fv6",
    "outputId": "c71aed6c-1edc-4223-dd47-5943c1cbf940"
   },
   "outputs": [
    {
     "name": "stdout",
     "output_type": "stream",
     "text": [
      "['aw', 'aww', 'awww', 'awwww', 'awwwww']\n"
     ]
    }
   ],
   "source": [
    "text = \"Let's see how we can match the following: aaw, aaww, aawww, awwww, awwwww\"\n",
    "pattern = \"aw{1,}\"\n",
    "print(re.findall(pattern, text))"
   ]
  },
  {
   "cell_type": "code",
   "execution_count": 34,
   "metadata": {
    "colab": {
     "base_uri": "https://localhost:8080/"
    },
    "executionInfo": {
     "elapsed": 670,
     "status": "ok",
     "timestamp": 1612036774536,
     "user": {
      "displayName": "Ignacio Soteras",
      "photoUrl": "",
      "userId": "02050793736257155229"
     },
     "user_tz": -60
    },
    "id": "5G58ivxM4QjH",
    "outputId": "57eeb191-4475-4612-8d71-be686e433d63"
   },
   "outputs": [
    {
     "name": "stdout",
     "output_type": "stream",
     "text": [
      "['aaww', 'aawww']\n"
     ]
    }
   ],
   "source": [
    "pattern = \"a{2,}w{2,}\"\n",
    "print(re.findall(pattern, text))"
   ]
  },
  {
   "cell_type": "markdown",
   "metadata": {
    "id": "EtU78Tqq4Y57"
   },
   "source": [
    "## Activity"
   ]
  },
  {
   "cell_type": "markdown",
   "metadata": {
    "id": "WFMyJc8m4bhd"
   },
   "source": [
    "Create a function to automate the process of reducing the number of values of a categorical column.\n",
    "\n",
    "**Hint:** The funtion should have as an argument:\n",
    "\n",
    "* a value \n",
    "* a list of values to keep\n",
    "* a list of values to replace\n",
    "* a default value of \"Other\" "
   ]
  },
  {
   "cell_type": "code",
   "execution_count": 35,
   "metadata": {
    "id": "Lffp0TOJ4gOF"
   },
   "outputs": [],
   "source": [
    "#@solution\n",
    "def reduce_categorical(x, to_keep = [], to_replace = [], processed = \"Other\"):\n",
    "    if x in to_keep or (to_keep == [] and x not in to_replace):\n",
    "        return x\n",
    "    else:\n",
    "        return processed"
   ]
  },
  {
   "cell_type": "code",
   "execution_count": 58,
   "metadata": {},
   "outputs": [],
   "source": [
    "numericals = data.select_dtypes(np.number)"
   ]
  },
  {
   "cell_type": "code",
   "execution_count": 39,
   "metadata": {},
   "outputs": [],
   "source": [
    "def to_dict(df):\n",
    "    for col in df.columns:\n",
    "        if df[col].dtypes == 'int64':\n",
    "            df1 = df.select_dtypes(include='int64')\n",
    "            discrete = df1.to_dict()\n",
    "        else:\n",
    "            df2 = df.select_dtypes(include='float64')\n",
    "            continuous = df2.to_dict()\n",
    "    return continuous, discrete"
   ]
  },
  {
   "cell_type": "code",
   "execution_count": 40,
   "metadata": {},
   "outputs": [],
   "source": [
    "continuous, discrete = to_dict(numericals)"
   ]
  },
  {
   "cell_type": "code",
   "execution_count": 41,
   "metadata": {},
   "outputs": [],
   "source": [
    "discrete_df = pd.DataFrame.from_dict(discrete)"
   ]
  },
  {
   "cell_type": "code",
   "execution_count": 42,
   "metadata": {},
   "outputs": [
    {
     "data": {
      "text/html": [
       "<div>\n",
       "<style scoped>\n",
       "    .dataframe tbody tr th:only-of-type {\n",
       "        vertical-align: middle;\n",
       "    }\n",
       "\n",
       "    .dataframe tbody tr th {\n",
       "        vertical-align: top;\n",
       "    }\n",
       "\n",
       "    .dataframe thead th {\n",
       "        text-align: right;\n",
       "    }\n",
       "</style>\n",
       "<table border=\"1\" class=\"dataframe\">\n",
       "  <thead>\n",
       "    <tr style=\"text-align: right;\">\n",
       "      <th></th>\n",
       "      <th>DOB</th>\n",
       "      <th>HV1</th>\n",
       "      <th>HV2</th>\n",
       "      <th>HV3</th>\n",
       "      <th>HV4</th>\n",
       "      <th>IC1</th>\n",
       "      <th>IC2</th>\n",
       "      <th>IC3</th>\n",
       "      <th>IC4</th>\n",
       "      <th>IC5</th>\n",
       "      <th>NUMPROM</th>\n",
       "      <th>CARDPROM</th>\n",
       "      <th>CARDPM12</th>\n",
       "      <th>NUMPRM12</th>\n",
       "      <th>MAXADATE</th>\n",
       "      <th>NGIFTALL</th>\n",
       "    </tr>\n",
       "  </thead>\n",
       "  <tbody>\n",
       "    <tr>\n",
       "      <th>0</th>\n",
       "      <td>3712</td>\n",
       "      <td>479</td>\n",
       "      <td>635</td>\n",
       "      <td>3</td>\n",
       "      <td>2</td>\n",
       "      <td>307</td>\n",
       "      <td>318</td>\n",
       "      <td>349</td>\n",
       "      <td>378</td>\n",
       "      <td>12883</td>\n",
       "      <td>74</td>\n",
       "      <td>27</td>\n",
       "      <td>6</td>\n",
       "      <td>14</td>\n",
       "      <td>9702</td>\n",
       "      <td>31</td>\n",
       "    </tr>\n",
       "    <tr>\n",
       "      <th>1</th>\n",
       "      <td>5202</td>\n",
       "      <td>5468</td>\n",
       "      <td>5218</td>\n",
       "      <td>12</td>\n",
       "      <td>10</td>\n",
       "      <td>1088</td>\n",
       "      <td>1096</td>\n",
       "      <td>1026</td>\n",
       "      <td>1037</td>\n",
       "      <td>36175</td>\n",
       "      <td>32</td>\n",
       "      <td>12</td>\n",
       "      <td>6</td>\n",
       "      <td>13</td>\n",
       "      <td>9702</td>\n",
       "      <td>3</td>\n",
       "    </tr>\n",
       "    <tr>\n",
       "      <th>2</th>\n",
       "      <td>0</td>\n",
       "      <td>497</td>\n",
       "      <td>546</td>\n",
       "      <td>2</td>\n",
       "      <td>1</td>\n",
       "      <td>251</td>\n",
       "      <td>292</td>\n",
       "      <td>292</td>\n",
       "      <td>340</td>\n",
       "      <td>11576</td>\n",
       "      <td>63</td>\n",
       "      <td>26</td>\n",
       "      <td>6</td>\n",
       "      <td>14</td>\n",
       "      <td>9702</td>\n",
       "      <td>27</td>\n",
       "    </tr>\n",
       "    <tr>\n",
       "      <th>3</th>\n",
       "      <td>2801</td>\n",
       "      <td>1000</td>\n",
       "      <td>1263</td>\n",
       "      <td>2</td>\n",
       "      <td>1</td>\n",
       "      <td>386</td>\n",
       "      <td>388</td>\n",
       "      <td>396</td>\n",
       "      <td>423</td>\n",
       "      <td>15130</td>\n",
       "      <td>66</td>\n",
       "      <td>27</td>\n",
       "      <td>6</td>\n",
       "      <td>14</td>\n",
       "      <td>9702</td>\n",
       "      <td>16</td>\n",
       "    </tr>\n",
       "    <tr>\n",
       "      <th>4</th>\n",
       "      <td>2001</td>\n",
       "      <td>576</td>\n",
       "      <td>594</td>\n",
       "      <td>4</td>\n",
       "      <td>3</td>\n",
       "      <td>240</td>\n",
       "      <td>250</td>\n",
       "      <td>293</td>\n",
       "      <td>321</td>\n",
       "      <td>9836</td>\n",
       "      <td>113</td>\n",
       "      <td>43</td>\n",
       "      <td>10</td>\n",
       "      <td>25</td>\n",
       "      <td>9702</td>\n",
       "      <td>37</td>\n",
       "    </tr>\n",
       "  </tbody>\n",
       "</table>\n",
       "</div>"
      ],
      "text/plain": [
       "    DOB   HV1   HV2  HV3  HV4   IC1   IC2   IC3   IC4    IC5  NUMPROM  \\\n",
       "0  3712   479   635    3    2   307   318   349   378  12883       74   \n",
       "1  5202  5468  5218   12   10  1088  1096  1026  1037  36175       32   \n",
       "2     0   497   546    2    1   251   292   292   340  11576       63   \n",
       "3  2801  1000  1263    2    1   386   388   396   423  15130       66   \n",
       "4  2001   576   594    4    3   240   250   293   321   9836      113   \n",
       "\n",
       "   CARDPROM  CARDPM12  NUMPRM12  MAXADATE  NGIFTALL  \n",
       "0        27         6        14      9702        31  \n",
       "1        12         6        13      9702         3  \n",
       "2        26         6        14      9702        27  \n",
       "3        27         6        14      9702        16  \n",
       "4        43        10        25      9702        37  "
      ]
     },
     "execution_count": 42,
     "metadata": {},
     "output_type": "execute_result"
    }
   ],
   "source": [
    "discrete_df.head()"
   ]
  },
  {
   "cell_type": "code",
   "execution_count": 43,
   "metadata": {},
   "outputs": [],
   "source": [
    "continuous_df= pd.DataFrame.from_dict(continuous)"
   ]
  },
  {
   "cell_type": "code",
   "execution_count": 44,
   "metadata": {},
   "outputs": [
    {
     "data": {
      "text/html": [
       "<div>\n",
       "<style scoped>\n",
       "    .dataframe tbody tr th:only-of-type {\n",
       "        vertical-align: middle;\n",
       "    }\n",
       "\n",
       "    .dataframe tbody tr th {\n",
       "        vertical-align: top;\n",
       "    }\n",
       "\n",
       "    .dataframe thead th {\n",
       "        text-align: right;\n",
       "    }\n",
       "</style>\n",
       "<table border=\"1\" class=\"dataframe\">\n",
       "  <thead>\n",
       "    <tr style=\"text-align: right;\">\n",
       "      <th></th>\n",
       "      <th>INCOME</th>\n",
       "      <th>TIMELAG</th>\n",
       "      <th>AVGGIFT</th>\n",
       "    </tr>\n",
       "  </thead>\n",
       "  <tbody>\n",
       "    <tr>\n",
       "      <th>0</th>\n",
       "      <td>4.0</td>\n",
       "      <td>1.386294</td>\n",
       "      <td>7.741935</td>\n",
       "    </tr>\n",
       "    <tr>\n",
       "      <th>1</th>\n",
       "      <td>6.0</td>\n",
       "      <td>2.890372</td>\n",
       "      <td>15.666667</td>\n",
       "    </tr>\n",
       "    <tr>\n",
       "      <th>2</th>\n",
       "      <td>3.0</td>\n",
       "      <td>2.484907</td>\n",
       "      <td>7.481481</td>\n",
       "    </tr>\n",
       "    <tr>\n",
       "      <th>3</th>\n",
       "      <td>1.0</td>\n",
       "      <td>2.197225</td>\n",
       "      <td>6.812500</td>\n",
       "    </tr>\n",
       "    <tr>\n",
       "      <th>4</th>\n",
       "      <td>3.0</td>\n",
       "      <td>2.639057</td>\n",
       "      <td>6.864865</td>\n",
       "    </tr>\n",
       "  </tbody>\n",
       "</table>\n",
       "</div>"
      ],
      "text/plain": [
       "   INCOME   TIMELAG    AVGGIFT\n",
       "0     4.0  1.386294   7.741935\n",
       "1     6.0  2.890372  15.666667\n",
       "2     3.0  2.484907   7.481481\n",
       "3     1.0  2.197225   6.812500\n",
       "4     3.0  2.639057   6.864865"
      ]
     },
     "execution_count": 44,
     "metadata": {},
     "output_type": "execute_result"
    }
   ],
   "source": [
    "continuous_df.head()"
   ]
  },
  {
   "cell_type": "code",
   "execution_count": 45,
   "metadata": {},
   "outputs": [],
   "source": [
    "num = data.select_dtypes(include = np.number)"
   ]
  },
  {
   "cell_type": "code",
   "execution_count": 46,
   "metadata": {},
   "outputs": [
    {
     "data": {
      "image/png": "[encoded data removed]",
      "text/plain": [
       "<Figure size 720x576 with 2 Axes>"
      ]
     },
     "metadata": {
      "needs_background": "light"
     },
     "output_type": "display_data"
    }
   ],
   "source": [
    "corr_matrix=num.corr(method='pearson')\n",
    "fig, ax = plt.subplots(figsize=(10, 8))\n",
    "ax = sns.heatmap(corr_matrix, annot=True)\n",
    "plt.show()"
   ]
  },
  {
   "cell_type": "code",
   "execution_count": 47,
   "metadata": {},
   "outputs": [
    {
     "data": {
      "image/png": "[encoded data removed]",
      "text/plain": [
       "<Figure size 432x288 with 1 Axes>"
      ]
     },
     "metadata": {
      "needs_background": "light"
     },
     "output_type": "display_data"
    },
    {
     "data": {
      "image/png": "[encoded data removed]",
      "text/plain": [
       "<Figure size 432x288 with 1 Axes>"
      ]
     },
     "metadata": {
      "needs_background": "light"
     },
     "output_type": "display_data"
    },
    {
     "data": {
      "image/png": "[encoded data removed]",
      "text/plain": [
       "<Figure size 432x288 with 1 Axes>"
      ]
     },
     "metadata": {
      "needs_background": "light"
     },
     "output_type": "display_data"
    }
   ],
   "source": [
    "for column in continuous_df:\n",
    "    continuous_df[column].hist()\n",
    "    plt.title(column)\n",
    "    plt.show()"
   ]
  },
  {
   "cell_type": "code",
   "execution_count": 48,
   "metadata": {},
   "outputs": [
    {
     "data": {
      "image/png": "[encoded data removed]",
      "text/plain": [
       "<Figure size 432x288 with 1 Axes>"
      ]
     },
     "metadata": {
      "needs_background": "light"
     },
     "output_type": "display_data"
    },
    {
     "data": {
      "text/plain": [
       "<Figure size 720x504 with 0 Axes>"
      ]
     },
     "metadata": {},
     "output_type": "display_data"
    }
   ],
   "source": [
    "plt.boxplot(continuous_df)\n",
    "fig = plt.figure(figsize =(10, 7))\n",
    "plt.show()"
   ]
  },
  {
   "cell_type": "code",
   "execution_count": 49,
   "metadata": {},
   "outputs": [],
   "source": [
    "cat = data.select_dtypes(include = np.object)"
   ]
  },
  {
   "cell_type": "code",
   "execution_count": 50,
   "metadata": {},
   "outputs": [
    {
     "data": {
      "text/html": [
       "<div>\n",
       "<style scoped>\n",
       "    .dataframe tbody tr th:only-of-type {\n",
       "        vertical-align: middle;\n",
       "    }\n",
       "\n",
       "    .dataframe tbody tr th {\n",
       "        vertical-align: top;\n",
       "    }\n",
       "\n",
       "    .dataframe thead th {\n",
       "        text-align: right;\n",
       "    }\n",
       "</style>\n",
       "<table border=\"1\" class=\"dataframe\">\n",
       "  <thead>\n",
       "    <tr style=\"text-align: right;\">\n",
       "      <th></th>\n",
       "      <th>STATE</th>\n",
       "      <th>MDMAUD</th>\n",
       "      <th>DOMAIN</th>\n",
       "      <th>HOMEOWNR</th>\n",
       "      <th>RFA_2</th>\n",
       "    </tr>\n",
       "  </thead>\n",
       "  <tbody>\n",
       "    <tr>\n",
       "      <th>0</th>\n",
       "      <td>IL</td>\n",
       "      <td>XXXX</td>\n",
       "      <td>T2</td>\n",
       "      <td>U</td>\n",
       "      <td>L4E</td>\n",
       "    </tr>\n",
       "    <tr>\n",
       "      <th>1</th>\n",
       "      <td>CA</td>\n",
       "      <td>XXXX</td>\n",
       "      <td>S1</td>\n",
       "      <td>H</td>\n",
       "      <td>L2G</td>\n",
       "    </tr>\n",
       "    <tr>\n",
       "      <th>2</th>\n",
       "      <td>NC</td>\n",
       "      <td>XXXX</td>\n",
       "      <td>R2</td>\n",
       "      <td>U</td>\n",
       "      <td>L4E</td>\n",
       "    </tr>\n",
       "    <tr>\n",
       "      <th>3</th>\n",
       "      <td>CA</td>\n",
       "      <td>XXXX</td>\n",
       "      <td>R2</td>\n",
       "      <td>U</td>\n",
       "      <td>L4E</td>\n",
       "    </tr>\n",
       "    <tr>\n",
       "      <th>4</th>\n",
       "      <td>FL</td>\n",
       "      <td>XXXX</td>\n",
       "      <td>S2</td>\n",
       "      <td>H</td>\n",
       "      <td>L2F</td>\n",
       "    </tr>\n",
       "  </tbody>\n",
       "</table>\n",
       "</div>"
      ],
      "text/plain": [
       "  STATE MDMAUD DOMAIN HOMEOWNR RFA_2\n",
       "0    IL   XXXX     T2        U   L4E\n",
       "1    CA   XXXX     S1        H   L2G\n",
       "2    NC   XXXX     R2        U   L4E\n",
       "3    CA   XXXX     R2        U   L4E\n",
       "4    FL   XXXX     S2        H   L2F"
      ]
     },
     "execution_count": 50,
     "metadata": {},
     "output_type": "execute_result"
    }
   ],
   "source": [
    "cat.head()"
   ]
  },
  {
   "cell_type": "code",
   "execution_count": null,
   "metadata": {},
   "outputs": [],
   "source": [
    "##We will start with removing outliers. So far, we have discussed different methods to remove outliers. Use the one you feel more comfortable with, define a function for that. Use the function to remove the outliers and apply it to the dataframe."
   ]
  },
  {
   "cell_type": "code",
   "execution_count": 68,
   "metadata": {},
   "outputs": [
    {
     "data": {
      "text/html": [
       "<div>\n",
       "<style scoped>\n",
       "    .dataframe tbody tr th:only-of-type {\n",
       "        vertical-align: middle;\n",
       "    }\n",
       "\n",
       "    .dataframe tbody tr th {\n",
       "        vertical-align: top;\n",
       "    }\n",
       "\n",
       "    .dataframe thead th {\n",
       "        text-align: right;\n",
       "    }\n",
       "</style>\n",
       "<table border=\"1\" class=\"dataframe\">\n",
       "  <thead>\n",
       "    <tr style=\"text-align: right;\">\n",
       "      <th></th>\n",
       "      <th>INCOME</th>\n",
       "      <th>TIMELAG</th>\n",
       "      <th>AVGGIFT</th>\n",
       "    </tr>\n",
       "  </thead>\n",
       "  <tbody>\n",
       "    <tr>\n",
       "      <th>0</th>\n",
       "      <td>4.0</td>\n",
       "      <td>1.386294</td>\n",
       "      <td>7.741935</td>\n",
       "    </tr>\n",
       "    <tr>\n",
       "      <th>1</th>\n",
       "      <td>6.0</td>\n",
       "      <td>2.890372</td>\n",
       "      <td>15.666667</td>\n",
       "    </tr>\n",
       "    <tr>\n",
       "      <th>2</th>\n",
       "      <td>3.0</td>\n",
       "      <td>2.484907</td>\n",
       "      <td>7.481481</td>\n",
       "    </tr>\n",
       "    <tr>\n",
       "      <th>3</th>\n",
       "      <td>1.0</td>\n",
       "      <td>2.197225</td>\n",
       "      <td>6.812500</td>\n",
       "    </tr>\n",
       "    <tr>\n",
       "      <th>4</th>\n",
       "      <td>3.0</td>\n",
       "      <td>2.639057</td>\n",
       "      <td>6.864865</td>\n",
       "    </tr>\n",
       "  </tbody>\n",
       "</table>\n",
       "</div>"
      ],
      "text/plain": [
       "   INCOME   TIMELAG    AVGGIFT\n",
       "0     4.0  1.386294   7.741935\n",
       "1     6.0  2.890372  15.666667\n",
       "2     3.0  2.484907   7.481481\n",
       "3     1.0  2.197225   6.812500\n",
       "4     3.0  2.639057   6.864865"
      ]
     },
     "execution_count": 68,
     "metadata": {},
     "output_type": "execute_result"
    }
   ],
   "source": [
    "continuous_df.head()"
   ]
  },
  {
   "cell_type": "code",
   "execution_count": 69,
   "metadata": {},
   "outputs": [],
   "source": [
    "def remove_outliers(continuous_df, threshold=1.5, in_columns=data.select_dtypes(np.number).columns, skip_columns=[]):\n",
    "    for column in in_columns:\n",
    "        if column not in skip_columns:\n",
    "            upper = np.percentile(continuous_df[column],75)\n",
    "            lower = np.percentile(continuous_df[column],25)\n",
    "            iqr = upper - lower\n",
    "            upper_limit = upper + threshold * iqr\n",
    "            lower_limit = lower - threshold * iqr\n",
    "            continuous_df = continuous_df[(continuous_df[column]>lower_limit) & (data[column]<upper_limit)]\n",
    "    return continuous_df"
   ]
  },
  {
   "cell_type": "code",
   "execution_count": 70,
   "metadata": {},
   "outputs": [
    {
     "data": {
      "text/html": [
       "<div>\n",
       "<style scoped>\n",
       "    .dataframe tbody tr th:only-of-type {\n",
       "        vertical-align: middle;\n",
       "    }\n",
       "\n",
       "    .dataframe tbody tr th {\n",
       "        vertical-align: top;\n",
       "    }\n",
       "\n",
       "    .dataframe thead th {\n",
       "        text-align: right;\n",
       "    }\n",
       "</style>\n",
       "<table border=\"1\" class=\"dataframe\">\n",
       "  <thead>\n",
       "    <tr style=\"text-align: right;\">\n",
       "      <th></th>\n",
       "      <th>INCOME</th>\n",
       "      <th>TIMELAG</th>\n",
       "      <th>AVGGIFT</th>\n",
       "    </tr>\n",
       "  </thead>\n",
       "  <tbody>\n",
       "    <tr>\n",
       "      <th>0</th>\n",
       "      <td>4.0</td>\n",
       "      <td>1.386294</td>\n",
       "      <td>7.741935</td>\n",
       "    </tr>\n",
       "    <tr>\n",
       "      <th>1</th>\n",
       "      <td>6.0</td>\n",
       "      <td>2.890372</td>\n",
       "      <td>15.666667</td>\n",
       "    </tr>\n",
       "    <tr>\n",
       "      <th>2</th>\n",
       "      <td>3.0</td>\n",
       "      <td>2.484907</td>\n",
       "      <td>7.481481</td>\n",
       "    </tr>\n",
       "    <tr>\n",
       "      <th>3</th>\n",
       "      <td>1.0</td>\n",
       "      <td>2.197225</td>\n",
       "      <td>6.812500</td>\n",
       "    </tr>\n",
       "    <tr>\n",
       "      <th>4</th>\n",
       "      <td>3.0</td>\n",
       "      <td>2.639057</td>\n",
       "      <td>6.864865</td>\n",
       "    </tr>\n",
       "    <tr>\n",
       "      <th>...</th>\n",
       "      <td>...</td>\n",
       "      <td>...</td>\n",
       "      <td>...</td>\n",
       "    </tr>\n",
       "    <tr>\n",
       "      <th>83651</th>\n",
       "      <td>6.0</td>\n",
       "      <td>1.098612</td>\n",
       "      <td>3.375000</td>\n",
       "    </tr>\n",
       "    <tr>\n",
       "      <th>83652</th>\n",
       "      <td>4.0</td>\n",
       "      <td>1.825808</td>\n",
       "      <td>25.000000</td>\n",
       "    </tr>\n",
       "    <tr>\n",
       "      <th>83653</th>\n",
       "      <td>7.0</td>\n",
       "      <td>1.825808</td>\n",
       "      <td>20.000000</td>\n",
       "    </tr>\n",
       "    <tr>\n",
       "      <th>83654</th>\n",
       "      <td>3.0</td>\n",
       "      <td>1.098612</td>\n",
       "      <td>8.285714</td>\n",
       "    </tr>\n",
       "    <tr>\n",
       "      <th>83655</th>\n",
       "      <td>5.0</td>\n",
       "      <td>1.791759</td>\n",
       "      <td>96.794872</td>\n",
       "    </tr>\n",
       "  </tbody>\n",
       "</table>\n",
       "<p>83656 rows × 3 columns</p>\n",
       "</div>"
      ],
      "text/plain": [
       "       INCOME   TIMELAG    AVGGIFT\n",
       "0         4.0  1.386294   7.741935\n",
       "1         6.0  2.890372  15.666667\n",
       "2         3.0  2.484907   7.481481\n",
       "3         1.0  2.197225   6.812500\n",
       "4         3.0  2.639057   6.864865\n",
       "...       ...       ...        ...\n",
       "83651     6.0  1.098612   3.375000\n",
       "83652     4.0  1.825808  25.000000\n",
       "83653     7.0  1.825808  20.000000\n",
       "83654     3.0  1.098612   8.285714\n",
       "83655     5.0  1.791759  96.794872\n",
       "\n",
       "[83656 rows x 3 columns]"
      ]
     },
     "execution_count": 70,
     "metadata": {},
     "output_type": "execute_result"
    }
   ],
   "source": [
    "continuous_df"
   ]
  },
  {
   "cell_type": "code",
   "execution_count": null,
   "metadata": {},
   "outputs": [],
   "source": [
    "#Create a copy of the dataframe for the data wrangling."
   ]
  },
  {
   "cell_type": "code",
   "execution_count": 71,
   "metadata": {},
   "outputs": [
    {
     "data": {
      "text/html": [
       "<div>\n",
       "<style scoped>\n",
       "    .dataframe tbody tr th:only-of-type {\n",
       "        vertical-align: middle;\n",
       "    }\n",
       "\n",
       "    .dataframe tbody tr th {\n",
       "        vertical-align: top;\n",
       "    }\n",
       "\n",
       "    .dataframe thead th {\n",
       "        text-align: right;\n",
       "    }\n",
       "</style>\n",
       "<table border=\"1\" class=\"dataframe\">\n",
       "  <thead>\n",
       "    <tr style=\"text-align: right;\">\n",
       "      <th></th>\n",
       "      <th>INCOME</th>\n",
       "      <th>TIMELAG</th>\n",
       "      <th>AVGGIFT</th>\n",
       "    </tr>\n",
       "  </thead>\n",
       "  <tbody>\n",
       "    <tr>\n",
       "      <th>0</th>\n",
       "      <td>4.0</td>\n",
       "      <td>1.386294</td>\n",
       "      <td>7.741935</td>\n",
       "    </tr>\n",
       "    <tr>\n",
       "      <th>1</th>\n",
       "      <td>6.0</td>\n",
       "      <td>2.890372</td>\n",
       "      <td>15.666667</td>\n",
       "    </tr>\n",
       "    <tr>\n",
       "      <th>2</th>\n",
       "      <td>3.0</td>\n",
       "      <td>2.484907</td>\n",
       "      <td>7.481481</td>\n",
       "    </tr>\n",
       "    <tr>\n",
       "      <th>3</th>\n",
       "      <td>1.0</td>\n",
       "      <td>2.197225</td>\n",
       "      <td>6.812500</td>\n",
       "    </tr>\n",
       "    <tr>\n",
       "      <th>4</th>\n",
       "      <td>3.0</td>\n",
       "      <td>2.639057</td>\n",
       "      <td>6.864865</td>\n",
       "    </tr>\n",
       "    <tr>\n",
       "      <th>...</th>\n",
       "      <td>...</td>\n",
       "      <td>...</td>\n",
       "      <td>...</td>\n",
       "    </tr>\n",
       "    <tr>\n",
       "      <th>83651</th>\n",
       "      <td>6.0</td>\n",
       "      <td>1.098612</td>\n",
       "      <td>3.375000</td>\n",
       "    </tr>\n",
       "    <tr>\n",
       "      <th>83652</th>\n",
       "      <td>4.0</td>\n",
       "      <td>1.825808</td>\n",
       "      <td>25.000000</td>\n",
       "    </tr>\n",
       "    <tr>\n",
       "      <th>83653</th>\n",
       "      <td>7.0</td>\n",
       "      <td>1.825808</td>\n",
       "      <td>20.000000</td>\n",
       "    </tr>\n",
       "    <tr>\n",
       "      <th>83654</th>\n",
       "      <td>3.0</td>\n",
       "      <td>1.098612</td>\n",
       "      <td>8.285714</td>\n",
       "    </tr>\n",
       "    <tr>\n",
       "      <th>83655</th>\n",
       "      <td>5.0</td>\n",
       "      <td>1.791759</td>\n",
       "      <td>96.794872</td>\n",
       "    </tr>\n",
       "  </tbody>\n",
       "</table>\n",
       "<p>83656 rows × 3 columns</p>\n",
       "</div>"
      ],
      "text/plain": [
       "       INCOME   TIMELAG    AVGGIFT\n",
       "0         4.0  1.386294   7.741935\n",
       "1         6.0  2.890372  15.666667\n",
       "2         3.0  2.484907   7.481481\n",
       "3         1.0  2.197225   6.812500\n",
       "4         3.0  2.639057   6.864865\n",
       "...       ...       ...        ...\n",
       "83651     6.0  1.098612   3.375000\n",
       "83652     4.0  1.825808  25.000000\n",
       "83653     7.0  1.825808  20.000000\n",
       "83654     3.0  1.098612   8.285714\n",
       "83655     5.0  1.791759  96.794872\n",
       "\n",
       "[83656 rows x 3 columns]"
      ]
     },
     "execution_count": 71,
     "metadata": {},
     "output_type": "execute_result"
    }
   ],
   "source": [
    "continuous_df.copy(deep=True)"
   ]
  },
  {
   "cell_type": "code",
   "execution_count": null,
   "metadata": {},
   "outputs": [],
   "source": [
    "#Normalize the continuous variables. You can use any one method you want."
   ]
  },
  {
   "cell_type": "code",
   "execution_count": 60,
   "metadata": {},
   "outputs": [
    {
     "data": {
      "text/html": [
       "<div>\n",
       "<style scoped>\n",
       "    .dataframe tbody tr th:only-of-type {\n",
       "        vertical-align: middle;\n",
       "    }\n",
       "\n",
       "    .dataframe tbody tr th {\n",
       "        vertical-align: top;\n",
       "    }\n",
       "\n",
       "    .dataframe thead th {\n",
       "        text-align: right;\n",
       "    }\n",
       "</style>\n",
       "<table border=\"1\" class=\"dataframe\">\n",
       "  <thead>\n",
       "    <tr style=\"text-align: right;\">\n",
       "      <th></th>\n",
       "      <th>INCOME</th>\n",
       "      <th>TIMELAG</th>\n",
       "      <th>AVGGIFT</th>\n",
       "    </tr>\n",
       "  </thead>\n",
       "  <tbody>\n",
       "    <tr>\n",
       "      <th>0</th>\n",
       "      <td>4.0</td>\n",
       "      <td>1.386294</td>\n",
       "      <td>7.741935</td>\n",
       "    </tr>\n",
       "    <tr>\n",
       "      <th>1</th>\n",
       "      <td>6.0</td>\n",
       "      <td>2.890372</td>\n",
       "      <td>15.666667</td>\n",
       "    </tr>\n",
       "    <tr>\n",
       "      <th>2</th>\n",
       "      <td>3.0</td>\n",
       "      <td>2.484907</td>\n",
       "      <td>7.481481</td>\n",
       "    </tr>\n",
       "    <tr>\n",
       "      <th>3</th>\n",
       "      <td>1.0</td>\n",
       "      <td>2.197225</td>\n",
       "      <td>6.812500</td>\n",
       "    </tr>\n",
       "    <tr>\n",
       "      <th>4</th>\n",
       "      <td>3.0</td>\n",
       "      <td>2.639057</td>\n",
       "      <td>6.864865</td>\n",
       "    </tr>\n",
       "    <tr>\n",
       "      <th>...</th>\n",
       "      <td>...</td>\n",
       "      <td>...</td>\n",
       "      <td>...</td>\n",
       "    </tr>\n",
       "    <tr>\n",
       "      <th>83651</th>\n",
       "      <td>6.0</td>\n",
       "      <td>1.098612</td>\n",
       "      <td>3.375000</td>\n",
       "    </tr>\n",
       "    <tr>\n",
       "      <th>83652</th>\n",
       "      <td>4.0</td>\n",
       "      <td>1.825808</td>\n",
       "      <td>25.000000</td>\n",
       "    </tr>\n",
       "    <tr>\n",
       "      <th>83653</th>\n",
       "      <td>7.0</td>\n",
       "      <td>1.825808</td>\n",
       "      <td>20.000000</td>\n",
       "    </tr>\n",
       "    <tr>\n",
       "      <th>83654</th>\n",
       "      <td>3.0</td>\n",
       "      <td>1.098612</td>\n",
       "      <td>8.285714</td>\n",
       "    </tr>\n",
       "    <tr>\n",
       "      <th>83655</th>\n",
       "      <td>5.0</td>\n",
       "      <td>1.791759</td>\n",
       "      <td>96.794872</td>\n",
       "    </tr>\n",
       "  </tbody>\n",
       "</table>\n",
       "<p>83656 rows × 3 columns</p>\n",
       "</div>"
      ],
      "text/plain": [
       "       INCOME   TIMELAG    AVGGIFT\n",
       "0         4.0  1.386294   7.741935\n",
       "1         6.0  2.890372  15.666667\n",
       "2         3.0  2.484907   7.481481\n",
       "3         1.0  2.197225   6.812500\n",
       "4         3.0  2.639057   6.864865\n",
       "...       ...       ...        ...\n",
       "83651     6.0  1.098612   3.375000\n",
       "83652     4.0  1.825808  25.000000\n",
       "83653     7.0  1.825808  20.000000\n",
       "83654     3.0  1.098612   8.285714\n",
       "83655     5.0  1.791759  96.794872\n",
       "\n",
       "[83656 rows x 3 columns]"
      ]
     },
     "execution_count": 60,
     "metadata": {},
     "output_type": "execute_result"
    }
   ],
   "source": [
    "continuous_df"
   ]
  },
  {
   "cell_type": "code",
   "execution_count": 72,
   "metadata": {},
   "outputs": [
    {
     "data": {
      "text/plain": [
       "array([[0.45331963, 0.15710861, 0.87739284],\n",
       "       [0.35245448, 0.16978741, 0.92029782],\n",
       "       [0.35566568, 0.29459867, 0.88696874],\n",
       "       ...,\n",
       "       [0.32913088, 0.08584712, 0.94037394],\n",
       "       [0.33782582, 0.1237132 , 0.93304274],\n",
       "       [0.05157804, 0.01848309, 0.99849791]])"
      ]
     },
     "execution_count": 72,
     "metadata": {},
     "output_type": "execute_result"
    }
   ],
   "source": [
    "from sklearn.preprocessing import Normalizer\n",
    "\n",
    "transformer = Normalizer().fit(continuous_df)\n",
    "x_normalized = transformer.transform(continuous_df)\n",
    "x_normalized"
   ]
  },
  {
   "cell_type": "code",
   "execution_count": null,
   "metadata": {},
   "outputs": [],
   "source": [
    "#Encode the categorical variables"
   ]
  },
  {
   "cell_type": "code",
   "execution_count": 67,
   "metadata": {},
   "outputs": [
    {
     "data": {
      "text/plain": [
       "array([[0., 0., 0., ..., 0., 0., 0.],\n",
       "       [0., 0., 0., ..., 0., 0., 0.],\n",
       "       [0., 0., 0., ..., 0., 0., 0.],\n",
       "       ...,\n",
       "       [0., 0., 0., ..., 0., 0., 0.],\n",
       "       [0., 1., 0., ..., 0., 0., 0.],\n",
       "       [0., 0., 0., ..., 0., 0., 0.]])"
      ]
     },
     "execution_count": 67,
     "metadata": {},
     "output_type": "execute_result"
    }
   ],
   "source": [
    "from sklearn.preprocessing import OneHotEncoder\n",
    "\n",
    "encoder = OneHotEncoder(handle_unknown='error', drop='first').fit(data[['DOMAIN']])\n",
    "encoded = encoder.transform(data[['DOMAIN']]).toarray()\n",
    "encoded"
   ]
  },
  {
   "cell_type": "code",
   "execution_count": null,
   "metadata": {},
   "outputs": [],
   "source": []
  }
 ],
 "metadata": {
  "colab": {
   "authorship_tag": "ABX9TyOogPhYxIMwj8U+tI2NlFpC",
   "mount_file_id": "1Y9WSP_ORSNTieykI050Ce-jotuJg15HA",
   "name": "Lesson 1-4 Key Concepts.ipynb",
   "provenance": [],
   "toc_visible": true
  },
  "kernelspec": {
   "display_name": "Python 3 (ipykernel)",
   "language": "python",
   "name": "python3"
  },
  "language_info": {
   "codemirror_mode": {
    "name": "ipython",
    "version": 3
   },
   "file_extension": ".py",
   "mimetype": "text/x-python",
   "name": "python",
   "nbconvert_exporter": "python",
   "pygments_lexer": "ipython3",
   "version": "3.9.7"
  }
 },
 "nbformat": 4,
 "nbformat_minor": 1
}
